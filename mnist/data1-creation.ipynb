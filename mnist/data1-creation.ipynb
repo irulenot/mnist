{
 "cells": [
  {
   "cell_type": "code",
   "execution_count": 1,
   "id": "e72ddbcf",
   "metadata": {},
   "outputs": [],
   "source": [
    "import pandas as pd\n",
    "from numpy import genfromtxt\n",
    "from PIL import Image\n",
    "import torch\n",
    "import numpy as np\n",
    "from copy import deepcopy as copy\n",
    "import torch.nn as nn\n",
    "import torch.nn.functional as F\n",
    "import torch.optim as optim"
   ]
  },
  {
   "cell_type": "markdown",
   "id": "11ab01d6",
   "metadata": {},
   "source": [
    "# Parsing processing and saving data"
   ]
  },
  {
   "cell_type": "code",
   "execution_count": 2,
   "id": "72dba5e5",
   "metadata": {},
   "outputs": [],
   "source": [
    "train = genfromtxt('../data/digit-recognizer/train.csv', delimiter=',')"
   ]
  },
  {
   "cell_type": "code",
   "execution_count": 3,
   "id": "2329b686",
   "metadata": {},
   "outputs": [],
   "source": [
    "data = []\n",
    "for i, datum in enumerate(train):\n",
    "    if i == 0:\n",
    "        continue\n",
    "    temp = []\n",
    "    temp.append(datum[0])\n",
    "    temp.append(datum[1:])\n",
    "    data.append(temp)"
   ]
  },
  {
   "cell_type": "code",
   "execution_count": 4,
   "id": "9ab3a79e",
   "metadata": {},
   "outputs": [],
   "source": [
    "tracker = {}\n",
    "for datum in data:\n",
    "    label = datum[0]\n",
    "    if label not in tracker:\n",
    "        tracker[label] = 1\n",
    "    else:\n",
    "        tracker[label] += 1"
   ]
  },
  {
   "cell_type": "code",
   "execution_count": 5,
   "id": "e7b7032b",
   "metadata": {},
   "outputs": [
    {
     "name": "stdout",
     "output_type": "stream",
     "text": [
      "{1.0: 4684, 0.0: 4132, 4.0: 4072, 7.0: 4401, 3.0: 4351, 5.0: 3795, 8.0: 4063, 9.0: 4188, 2.0: 4177, 6.0: 4137}\n"
     ]
    }
   ],
   "source": [
    "print(tracker)"
   ]
  },
  {
   "cell_type": "code",
   "execution_count": 6,
   "id": "580345e6",
   "metadata": {},
   "outputs": [],
   "source": [
    "MAX = 3795\n",
    "for key in tracker:\n",
    "    tracker[key] -=  3795"
   ]
  },
  {
   "cell_type": "code",
   "execution_count": 7,
   "id": "580a5359",
   "metadata": {},
   "outputs": [
    {
     "name": "stdout",
     "output_type": "stream",
     "text": [
      "{1.0: 889, 0.0: 337, 4.0: 277, 7.0: 606, 3.0: 556, 5.0: 0, 8.0: 268, 9.0: 393, 2.0: 382, 6.0: 342}\n"
     ]
    }
   ],
   "source": [
    "print(tracker)"
   ]
  },
  {
   "cell_type": "code",
   "execution_count": 8,
   "id": "56bd7c55",
   "metadata": {},
   "outputs": [],
   "source": [
    "new_data = []\n",
    "for datum in data:\n",
    "    label = datum[0]\n",
    "    if tracker[label] > 0:\n",
    "        tracker[label] -= 1\n",
    "    else:\n",
    "        new_data.append(datum)"
   ]
  },
  {
   "cell_type": "code",
   "execution_count": 9,
   "id": "7b67dd29",
   "metadata": {},
   "outputs": [],
   "source": [
    "new_tracker = {}\n",
    "for datum in new_data:\n",
    "    label = datum[0]\n",
    "    if label not in new_tracker:\n",
    "        new_tracker[label] = 1\n",
    "    else:\n",
    "        new_tracker[label] += 1"
   ]
  },
  {
   "cell_type": "code",
   "execution_count": 10,
   "id": "f4e4d92c",
   "metadata": {},
   "outputs": [
    {
     "name": "stdout",
     "output_type": "stream",
     "text": [
      "{5.0: 3795, 4.0: 3795, 8.0: 3795, 0.0: 3795, 6.0: 3795, 2.0: 3795, 9.0: 3795, 3.0: 3795, 7.0: 3795, 1.0: 3795}\n"
     ]
    }
   ],
   "source": [
    "print(new_tracker)"
   ]
  },
  {
   "cell_type": "code",
   "execution_count": 11,
   "id": "58a97a1f",
   "metadata": {},
   "outputs": [],
   "source": [
    "data = new_data"
   ]
  },
  {
   "cell_type": "code",
   "execution_count": 22,
   "id": "03e2db3f",
   "metadata": {},
   "outputs": [
    {
     "name": "stdout",
     "output_type": "stream",
     "text": [
      "999640211.0\n"
     ]
    }
   ],
   "source": [
    "total = 0\n",
    "for datum in data:\n",
    "    total += np.sum(datum[1])\n",
    "print(total)"
   ]
  },
  {
   "cell_type": "code",
   "execution_count": 23,
   "id": "0ac0708c",
   "metadata": {},
   "outputs": [
    {
     "name": "stdout",
     "output_type": "stream",
     "text": [
      "3920157.6901961183\n"
     ]
    }
   ],
   "source": [
    "for datum in data:\n",
    "    datum[1] /= 255.0\n",
    "total = 0\n",
    "for datum in data:\n",
    "    total += np.sum(datum[1])\n",
    "print(total)"
   ]
  },
  {
   "cell_type": "code",
   "execution_count": 24,
   "id": "ffb11c5f",
   "metadata": {},
   "outputs": [
    {
     "name": "stdout",
     "output_type": "stream",
     "text": [
      "1.0\n"
     ]
    }
   ],
   "source": [
    "maximus = 0\n",
    "for datum in data:\n",
    "    if np.amax(datum[1]) > maximus:\n",
    "        maximus = np.amax(datum[1])\n",
    "print(maximus)"
   ]
  },
  {
   "cell_type": "code",
   "execution_count": 25,
   "id": "7bde3fe9",
   "metadata": {},
   "outputs": [
    {
     "name": "stderr",
     "output_type": "stream",
     "text": [
      "C:\\Users\\abmst\\anaconda3\\envs\\mnist\\lib\\site-packages\\numpy\\core\\_asarray.py:136: VisibleDeprecationWarning: Creating an ndarray from ragged nested sequences (which is a list-or-tuple of lists-or-tuples-or ndarrays with different lengths or shapes) is deprecated. If you meant to do this, you must specify 'dtype=object' when creating the ndarray\n",
      "  return array(a, dtype, copy=False, order=order, subok=True)\n"
     ]
    }
   ],
   "source": [
    "np.save('training_data.npy', data)"
   ]
  },
  {
   "cell_type": "code",
   "execution_count": 36,
   "id": "82743b56",
   "metadata": {},
   "outputs": [],
   "source": [
    "data = np.load('training_data.npy', allow_pickle=True)"
   ]
  },
  {
   "cell_type": "code",
   "execution_count": 39,
   "id": "a307471b",
   "metadata": {},
   "outputs": [
    {
     "name": "stdout",
     "output_type": "stream",
     "text": [
      "0.0\n"
     ]
    }
   ],
   "source": [
    "print(data[555][0])"
   ]
  },
  {
   "cell_type": "code",
   "execution_count": 41,
   "id": "40d06e79",
   "metadata": {},
   "outputs": [],
   "source": [
    "for datum in data:\n",
    "    label = datum[0]\n",
    "    datum[0] = np.eye(10)[int(label)]"
   ]
  },
  {
   "cell_type": "code",
   "execution_count": 42,
   "id": "003092b4",
   "metadata": {},
   "outputs": [
    {
     "name": "stdout",
     "output_type": "stream",
     "text": [
      "[1. 0. 0. 0. 0. 0. 0. 0. 0. 0.]\n"
     ]
    }
   ],
   "source": [
    "print(data[555][0])"
   ]
  },
  {
   "cell_type": "code",
   "execution_count": 43,
   "id": "a474dc96",
   "metadata": {},
   "outputs": [],
   "source": [
    "np.save('training_data.npy', data)"
   ]
  },
  {
   "cell_type": "code",
   "execution_count": null,
   "id": "41da37e2",
   "metadata": {},
   "outputs": [],
   "source": []
  }
 ],
 "metadata": {
  "kernelspec": {
   "display_name": "Python 3",
   "language": "python",
   "name": "python3"
  },
  "language_info": {
   "codemirror_mode": {
    "name": "ipython",
    "version": 3
   },
   "file_extension": ".py",
   "mimetype": "text/x-python",
   "name": "python",
   "nbconvert_exporter": "python",
   "pygments_lexer": "ipython3",
   "version": "3.8.8"
  }
 },
 "nbformat": 4,
 "nbformat_minor": 5
}
