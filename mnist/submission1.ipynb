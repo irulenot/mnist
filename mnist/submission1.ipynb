{
 "cells": [
  {
   "cell_type": "markdown",
   "id": "5128fc8e",
   "metadata": {},
   "source": [
    "# Setup"
   ]
  },
  {
   "cell_type": "code",
   "execution_count": 1,
   "id": "5b7694ce",
   "metadata": {},
   "outputs": [],
   "source": [
    "import pandas as pd\n",
    "from numpy import genfromtxt\n",
    "from PIL import Image\n",
    "import torch\n",
    "import numpy as np\n",
    "from copy import deepcopy as copy\n",
    "import torch.nn as nn\n",
    "import torch.nn.functional as F\n",
    "import torch.optim as optim\n",
    "from tqdm import tqdm"
   ]
  },
  {
   "cell_type": "code",
   "execution_count": 2,
   "id": "c817eb71",
   "metadata": {},
   "outputs": [],
   "source": [
    "class Net(nn.Module):\n",
    "        def __init__(self):\n",
    "            super().__init__()\n",
    "            self.conv1 = nn.Conv2d(1, 28, 3)\n",
    "            self.pool1 = nn.MaxPool2d((2, 2))\n",
    "            self.fc1 = nn.Linear(4732, 10)\n",
    "        \n",
    "        def forward(self, x):\n",
    "            x = F.relu(self.conv1(x))\n",
    "            x = self.pool1(x)\n",
    "            x = x.flatten(start_dim=1)\n",
    "            x = self.fc1(x)\n",
    "            return F.softmax(x, dim=1)"
   ]
  },
  {
   "cell_type": "code",
   "execution_count": 3,
   "id": "6a07180c",
   "metadata": {},
   "outputs": [
    {
     "data": {
      "text/plain": [
       "Net(\n",
       "  (conv1): Conv2d(1, 28, kernel_size=(3, 3), stride=(1, 1))\n",
       "  (pool1): MaxPool2d(kernel_size=(2, 2), stride=(2, 2), padding=0, dilation=1, ceil_mode=False)\n",
       "  (fc1): Linear(in_features=4732, out_features=10, bias=True)\n",
       ")"
      ]
     },
     "execution_count": 3,
     "metadata": {},
     "output_type": "execute_result"
    }
   ],
   "source": [
    "device = torch.device('cuda:0')\n",
    "net = Net().to(device)\n",
    "net.load_state_dict(torch.load('model1'))\n",
    "net.eval()"
   ]
  },
  {
   "cell_type": "markdown",
   "id": "564e0082",
   "metadata": {},
   "source": [
    "# Relics"
   ]
  },
  {
   "cell_type": "code",
   "execution_count": 7,
   "id": "b9739e65",
   "metadata": {},
   "outputs": [],
   "source": [
    "test = genfromtxt('../data/digit-recognizer/test.csv', delimiter=',')[1:]"
   ]
  },
  {
   "cell_type": "code",
   "execution_count": 8,
   "id": "6210e68e",
   "metadata": {},
   "outputs": [],
   "source": [
    "np.save('testing_data.npy', test)"
   ]
  },
  {
   "cell_type": "markdown",
   "id": "4d93e59e",
   "metadata": {},
   "source": [
    "# Submission Code"
   ]
  },
  {
   "cell_type": "code",
   "execution_count": 4,
   "id": "5ae93c15",
   "metadata": {},
   "outputs": [],
   "source": [
    "test = np.load('testing_data.npy', allow_pickle=True)"
   ]
  },
  {
   "cell_type": "code",
   "execution_count": 5,
   "id": "04052398",
   "metadata": {},
   "outputs": [],
   "source": [
    "BATCH_SIZE = 10\n",
    "predictions = []\n",
    "for i in range(0, len(test), BATCH_SIZE):\n",
    "    batch_X = torch.Tensor(test[i:i+BATCH_SIZE]).view(-1, 1, 28, 28).to(device)\n",
    "    with torch.no_grad():\n",
    "        output = net(batch_X)\n",
    "        softmax = torch.exp(output).cpu()\n",
    "        prob = list(softmax.numpy())\n",
    "        predictions.append(np.argmax(prob, axis=1))"
   ]
  },
  {
   "cell_type": "code",
   "execution_count": 6,
   "id": "100c2686",
   "metadata": {},
   "outputs": [],
   "source": [
    "flat_list = []\n",
    "for sublist in predictions:\n",
    "    for item in sublist:\n",
    "        flat_list.append(item)"
   ]
  },
  {
   "cell_type": "code",
   "execution_count": 28,
   "id": "cca77c23",
   "metadata": {},
   "outputs": [],
   "source": [
    "y = np.array(flat_list.copy())\n",
    "results = pd.Series(y ,name=\"Label\")\n",
    "submission = pd.concat([pd.Series(range(1,28001),name = \"ImageId\"), results],axis = 1)\n",
    "submission.to_csv(\"submission1.csv\",index=False)"
   ]
  },
  {
   "cell_type": "code",
   "execution_count": 20,
   "id": "07f0e894",
   "metadata": {},
   "outputs": [
    {
     "name": "stdout",
     "output_type": "stream",
     "text": [
      "0        0\n",
      "1        0\n",
      "2        0\n",
      "3        0\n",
      "4        0\n",
      "        ..\n",
      "27995    0\n",
      "27996    0\n",
      "27997    0\n",
      "27998    0\n",
      "27999    0\n",
      "Name: Label, Length: 28000, dtype: int64\n"
     ]
    }
   ],
   "source": [
    "print(results)"
   ]
  },
  {
   "cell_type": "code",
   "execution_count": null,
   "id": "a71dc27e",
   "metadata": {},
   "outputs": [],
   "source": []
  }
 ],
 "metadata": {
  "kernelspec": {
   "display_name": "Python 3",
   "language": "python",
   "name": "python3"
  },
  "language_info": {
   "codemirror_mode": {
    "name": "ipython",
    "version": 3
   },
   "file_extension": ".py",
   "mimetype": "text/x-python",
   "name": "python",
   "nbconvert_exporter": "python",
   "pygments_lexer": "ipython3",
   "version": "3.8.8"
  }
 },
 "nbformat": 4,
 "nbformat_minor": 5
}
